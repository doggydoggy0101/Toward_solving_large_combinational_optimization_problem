{
 "cells": [
  {
   "cell_type": "code",
   "execution_count": 1,
   "id": "dbd0ed9d",
   "metadata": {
    "scrolled": true
   },
   "outputs": [],
   "source": [
    "from qiskit import Aer, execute, QuantumCircuit\n",
    "from qiskit.circuit import ParameterVector\n",
    "from qiskit.algorithms import VQE, QAOA, NumPyMinimumEigensolver\n",
    "from qiskit.algorithms.optimizers import COBYLA\n",
    "from qiskit.circuit.library import TwoLocal\n",
    "from qiskit.utils import QuantumInstance\n",
    "from qiskit_finance.applications.optimization import PortfolioOptimization\n",
    "from qiskit_finance.data_providers import RandomDataProvider\n",
    "from qiskit_optimization.algorithms import MinimumEigenOptimizer\n",
    "from qiskit_optimization.applications import OptimizationApplication\n",
    "from qiskit_optimization.converters import QuadraticProgramToQubo\n",
    "import numpy as np\n",
    "import matplotlib.pyplot as plt\n",
    "import datetime"
   ]
  },
  {
   "cell_type": "code",
   "execution_count": 2,
   "id": "3bf9dc2a",
   "metadata": {},
   "outputs": [],
   "source": [
    "# set number of assets (= number of qubits)\n",
    "num_assets = 4\n",
    "seed = 123\n",
    "\n",
    "# Generate expected return and covariance matrix from (random) time-series\n",
    "stocks = [(\"TICKER%s\" % i) for i in range(num_assets)]\n",
    "data = RandomDataProvider(\n",
    "    tickers=stocks,\n",
    "    start=datetime.datetime(2016, 1, 1),\n",
    "    end=datetime.datetime(2016, 1, 30),\n",
    "    seed=seed,\n",
    ")\n",
    "data.run()\n",
    "mu = data.get_period_return_mean_vector()\n",
    "sigma = data.get_period_return_covariance_matrix()"
   ]
  },
  {
   "cell_type": "code",
   "execution_count": 3,
   "id": "57ea70ab",
   "metadata": {
    "scrolled": true
   },
   "outputs": [
    {
     "data": {
      "text/plain": [
       "array([[ 2.54138859e-03,  7.34022167e-05,  1.28600531e-04,\n",
       "        -9.98612132e-05],\n",
       "       [ 7.34022167e-05,  2.58486713e-04,  5.30427595e-05,\n",
       "         4.44816208e-05],\n",
       "       [ 1.28600531e-04,  5.30427595e-05,  7.91504681e-04,\n",
       "        -1.23887382e-04],\n",
       "       [-9.98612132e-05,  4.44816208e-05, -1.23887382e-04,\n",
       "         1.97892585e-04]])"
      ]
     },
     "execution_count": 3,
     "metadata": {},
     "output_type": "execute_result"
    }
   ],
   "source": [
    "sigma"
   ]
  },
  {
   "cell_type": "code",
   "execution_count": 4,
   "id": "95b3c4ee",
   "metadata": {},
   "outputs": [
    {
     "data": {
      "text/plain": [
       "array([ 0.01528439, -0.00078095,  0.00051792,  0.00087001])"
      ]
     },
     "execution_count": 4,
     "metadata": {},
     "output_type": "execute_result"
    }
   ],
   "source": [
    "mu"
   ]
  },
  {
   "cell_type": "code",
   "execution_count": 5,
   "id": "41df3a32",
   "metadata": {},
   "outputs": [],
   "source": [
    "# plt.imshow(sigma, interpolation=\"nearest\")\n",
    "# plt.show()"
   ]
  },
  {
   "cell_type": "markdown",
   "id": "1eb15c7b",
   "metadata": {},
   "source": [
    "#### Quadratic problem"
   ]
  },
  {
   "cell_type": "code",
   "execution_count": 6,
   "id": "691cc890",
   "metadata": {},
   "outputs": [
    {
     "data": {
      "text/plain": [
       "<QuadraticProgram: minimize 0.001270694296030004*x_0^2 + 7.340221669347328e-05..., 4 variables, 1 constraints, 'Portfolio optimization'>"
      ]
     },
     "execution_count": 6,
     "metadata": {},
     "output_type": "execute_result"
    }
   ],
   "source": [
    "q = 0.5  # set risk factor\n",
    "budget = num_assets // 2  # set budget\n",
    "penalty = num_assets  # set parameter to scale the budget penalty term\n",
    "\n",
    "portfolio = PortfolioOptimization(\n",
    "    expected_returns=mu, covariances=sigma, risk_factor=q, budget=budget\n",
    ")\n",
    "qp = portfolio.to_quadratic_program()\n",
    "qp"
   ]
  },
  {
   "cell_type": "code",
   "execution_count": 7,
   "id": "83ceaaf1",
   "metadata": {},
   "outputs": [],
   "source": [
    "def index_to_selection(i, num_assets):\n",
    "    s = \"{0:b}\".format(i).rjust(num_assets)\n",
    "    x = np.array([1 if s[i] == \"1\" else 0 for i in reversed(range(num_assets))])\n",
    "    return x\n",
    "\n",
    "\n",
    "def print_result(result):\n",
    "    selection = result.x\n",
    "    value = result.fval\n",
    "    print(\"Optimal: selection {}, value {:.4f}\".format(selection, value))\n",
    "\n",
    "    eigenstate = result.min_eigen_solver_result.eigenstate\n",
    "    eigenvector = eigenstate if isinstance(eigenstate, np.ndarray) else eigenstate.to_matrix()\n",
    "    probabilities = np.abs(eigenvector) ** 2\n",
    "    i_sorted = reversed(np.argsort(probabilities))\n",
    "    print(\"\\n----------------- Full result ---------------------\")\n",
    "    print(\"selection\\tvalue\\t\\tprobability\")\n",
    "    print(\"---------------------------------------------------\")\n",
    "    for i in i_sorted:\n",
    "        x = index_to_selection(i, num_assets)\n",
    "        value = QuadraticProgramToQubo().convert(qp).objective.evaluate(x)\n",
    "        # value = portfolio.to_quadratic_program().objective.evaluate(x)\n",
    "        probability = probabilities[i]\n",
    "        print(\"%10s\\t%.4f\\t\\t%.4f\" % (x, value, probability))"
   ]
  },
  {
   "cell_type": "markdown",
   "id": "1f6ffc55",
   "metadata": {},
   "source": [
    "#### VQE"
   ]
  },
  {
   "cell_type": "code",
   "execution_count": 8,
   "id": "c574ebd5",
   "metadata": {},
   "outputs": [
    {
     "name": "stdout",
     "output_type": "stream",
     "text": [
      "Optimal: selection [1. 0. 0. 1.], value -0.0149\n",
      "\n",
      "----------------- Full result ---------------------\n",
      "selection\tvalue\t\tprobability\n",
      "---------------------------------------------------\n",
      " [1 0 0 1]\t-0.0149\t\t0.8768\n",
      " [0 0 1 1]\t-0.0010\t\t0.0883\n",
      " [1 1 0 0]\t-0.0130\t\t0.0311\n",
      " [1 0 1 0]\t-0.0140\t\t0.0029\n",
      " [0 1 0 1]\t0.0002\t\t0.0005\n",
      " [0 1 1 0]\t0.0008\t\t0.0004\n",
      " [0 1 1 1]\t1.0199\t\t0.0000\n",
      " [1 1 1 0]\t1.0069\t\t0.0000\n",
      " [1 0 0 0]\t1.0059\t\t0.0000\n",
      " [0 1 0 0]\t1.0208\t\t0.0000\n",
      " [0 0 0 1]\t1.0191\t\t0.0000\n",
      " [0 0 0 0]\t4.0795\t\t0.0000\n",
      " [1 0 1 1]\t1.0049\t\t0.0000\n",
      " [1 1 0 1]\t1.0060\t\t0.0000\n",
      " [1 1 1 1]\t4.0656\t\t0.0000\n",
      " [0 0 1 0]\t1.0197\t\t0.0000\n"
     ]
    }
   ],
   "source": [
    "from qiskit.utils import algorithm_globals\n",
    "\n",
    "algorithm_globals.random_seed = 1234\n",
    "backend = Aer.get_backend(\"statevector_simulator\")\n",
    "\n",
    "cobyla = COBYLA()\n",
    "cobyla.set_options(maxiter=500)\n",
    "ry = TwoLocal(num_assets, \"ry\", \"cz\", reps=3, entanglement=\"full\")\n",
    "quantum_instance = QuantumInstance(backend=backend, seed_simulator=seed, seed_transpiler=seed)\n",
    "vqe_mes = VQE(ry, optimizer=cobyla, quantum_instance=quantum_instance)\n",
    "vqe = MinimumEigenOptimizer(vqe_mes)\n",
    "result = vqe.solve(qp)\n",
    "\n",
    "print_result(result)"
   ]
  },
  {
   "cell_type": "markdown",
   "id": "57dc6068",
   "metadata": {},
   "source": [
    "#### QAOA"
   ]
  },
  {
   "cell_type": "code",
   "execution_count": 9,
   "id": "93ba718a",
   "metadata": {},
   "outputs": [
    {
     "name": "stdout",
     "output_type": "stream",
     "text": [
      "Optimal: selection [1. 0. 0. 1.], value -0.0149\n",
      "\n",
      "----------------- Full result ---------------------\n",
      "selection\tvalue\t\tprobability\n",
      "---------------------------------------------------\n",
      " [1 0 0 1]\t-0.0149\t\t0.1684\n",
      " [1 0 1 0]\t-0.0140\t\t0.1683\n",
      " [1 1 0 0]\t-0.0130\t\t0.1680\n",
      " [0 0 1 1]\t-0.0010\t\t0.1653\n",
      " [0 1 0 1]\t0.0002\t\t0.1651\n",
      " [0 1 1 0]\t0.0008\t\t0.1649\n",
      " [0 0 0 0]\t4.0795\t\t0.0000\n",
      " [1 1 1 1]\t4.0656\t\t0.0000\n",
      " [1 1 1 0]\t1.0069\t\t0.0000\n",
      " [1 0 1 1]\t1.0049\t\t0.0000\n",
      " [1 1 0 1]\t1.0060\t\t0.0000\n",
      " [0 1 0 0]\t1.0208\t\t0.0000\n",
      " [0 0 1 0]\t1.0197\t\t0.0000\n",
      " [0 0 0 1]\t1.0191\t\t0.0000\n",
      " [0 1 1 1]\t1.0199\t\t0.0000\n",
      " [1 0 0 0]\t1.0059\t\t0.0000\n"
     ]
    }
   ],
   "source": [
    "algorithm_globals.random_seed = 1234\n",
    "backend = Aer.get_backend(\"statevector_simulator\")\n",
    "\n",
    "cobyla = COBYLA()\n",
    "cobyla.set_options(maxiter=250)\n",
    "quantum_instance = QuantumInstance(backend=backend, seed_simulator=seed, seed_transpiler=seed)\n",
    "qaoa_mes = QAOA(optimizer=cobyla, reps=3, quantum_instance=quantum_instance)\n",
    "qaoa = MinimumEigenOptimizer(qaoa_mes)\n",
    "result = qaoa.solve(qp)\n",
    "\n",
    "print_result(result)"
   ]
  },
  {
   "cell_type": "markdown",
   "id": "93d96e67",
   "metadata": {},
   "source": [
    "#### Decomposition"
   ]
  },
  {
   "cell_type": "code",
   "execution_count": 10,
   "id": "b0e9c902",
   "metadata": {},
   "outputs": [
    {
     "data": {
      "image/png": "[encoded data removed]",
      "text/plain": [
       "<Figure size 748.652x144.48 with 1 Axes>"
      ]
     },
     "execution_count": 10,
     "metadata": {},
     "output_type": "execute_result"
    }
   ],
   "source": [
    "qc = QuantumCircuit(2)\n",
    "\n",
    "r = 4\n",
    "theta = ParameterVector('p', 2*4*r)\n",
    "\n",
    "t = 0\n",
    "for i in range(r):   \n",
    "    qc.ry(theta[t], 0)\n",
    "    qc.rz(theta[t+1],0)\n",
    "    qc.ry(theta[t+2], 1)\n",
    "    qc.rz(theta[t+3], 1)\n",
    "    if i < r-1: qc.cnot(0,1)\n",
    "    t += 4\n",
    "qc.draw(output=\"mpl\")"
   ]
  },
  {
   "cell_type": "code",
   "execution_count": 11,
   "id": "3099861d",
   "metadata": {
    "scrolled": false
   },
   "outputs": [],
   "source": [
    "qc = QuantumCircuit(4)\n",
    "\n",
    "r = 4\n",
    "theta = ParameterVector('p', 2*4*r)\n",
    "\n",
    "t = 0\n",
    "for i in range(r):   \n",
    "    qc.ry(theta[t], 0)\n",
    "    qc.rz(theta[t+1],0)\n",
    "    qc.ry(theta[t+2], 1)\n",
    "    qc.rz(theta[t+3], 1)\n",
    "    if i < r-1: qc.cnot(0,1)\n",
    "    t += 4\n",
    "\n",
    "t = int(len(theta)/2)\n",
    "for i in range(r):   \n",
    "    qc.ry(theta[t], 2)\n",
    "    qc.rz(theta[t+1],2)\n",
    "    qc.ry(theta[t+2], 3)\n",
    "    qc.rz(theta[t+3], 3)\n",
    "    if i < r-1: qc.cnot(2,3)\n",
    "    t += 4\n",
    "\n",
    "# qc.draw(output=\"mpl\")"
   ]
  },
  {
   "cell_type": "code",
   "execution_count": 12,
   "id": "0ad53261",
   "metadata": {},
   "outputs": [
    {
     "name": "stdout",
     "output_type": "stream",
     "text": [
      "[1. 0. 0. 1.]\n"
     ]
    }
   ],
   "source": [
    "algorithm_globals.random_seed = 1234\n",
    "# backend = Aer.get_backend(\"statevector_simulator\")\n",
    "\n",
    "backend = Aer.get_backend('aer_simulator')\n",
    "backend.shots = 1024\n",
    "\n",
    "cobyla = COBYLA()\n",
    "cobyla.set_options(maxiter=500)\n",
    "# ry = TwoLocal(num_assets, \"ry\", \"cz\", reps=3, entanglement=\"full\")\n",
    "quantum_instance = QuantumInstance(backend=backend, seed_simulator=seed, seed_transpiler=seed)\n",
    "vqe_mes = VQE(qc, optimizer=cobyla, quantum_instance=quantum_instance)\n",
    "vqe = MinimumEigenOptimizer(vqe_mes)\n",
    "result = vqe.solve(qp)\n",
    "\n",
    "print(result.x)"
   ]
  }
 ],
 "metadata": {
  "kernelspec": {
   "display_name": "Python 3 (ipykernel)",
   "language": "python",
   "name": "python3"
  },
  "language_info": {
   "codemirror_mode": {
    "name": "ipython",
    "version": 3
   },
   "file_extension": ".py",
   "mimetype": "text/x-python",
   "name": "python",
   "nbconvert_exporter": "python",
   "pygments_lexer": "ipython3",
   "version": "3.9.12"
  }
 },
 "nbformat": 4,
 "nbformat_minor": 5
}
