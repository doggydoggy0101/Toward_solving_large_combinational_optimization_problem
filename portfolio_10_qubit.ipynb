{
 "cells": [
  {
   "cell_type": "code",
   "execution_count": 1,
   "id": "dbd0ed9d",
   "metadata": {
    "scrolled": true
   },
   "outputs": [],
   "source": [
    "from qiskit import Aer, execute, QuantumCircuit\n",
    "from qiskit.circuit import ParameterVector\n",
    "from qiskit.algorithms import VQE, QAOA, NumPyMinimumEigensolver\n",
    "from qiskit.algorithms.optimizers import COBYLA\n",
    "from qiskit.circuit.library import TwoLocal\n",
    "from qiskit.utils import QuantumInstance\n",
    "from qiskit_finance.applications.optimization import PortfolioOptimization\n",
    "from qiskit_finance.data_providers import RandomDataProvider\n",
    "from qiskit_optimization.algorithms import MinimumEigenOptimizer\n",
    "from qiskit_optimization.applications import OptimizationApplication\n",
    "from qiskit_optimization.converters import QuadraticProgramToQubo\n",
    "import numpy as np\n",
    "import matplotlib.pyplot as plt\n",
    "import datetime\n",
    "\n",
    "from time import time"
   ]
  },
  {
   "cell_type": "code",
   "execution_count": 24,
   "id": "3bf9dc2a",
   "metadata": {},
   "outputs": [],
   "source": [
    "# set number of assets (= number of qubits)\n",
    "num_assets = 10\n",
    "seed = 123\n",
    "\n",
    "# Generate expected return and covariance matrix from (random) time-series\n",
    "stocks = [(\"TICKER%s\" % i) for i in range(num_assets)]\n",
    "data = RandomDataProvider(\n",
    "    tickers=stocks,\n",
    "    start=datetime.datetime(2018, 1, 1),\n",
    "    end=datetime.datetime(2018, 3, 30),\n",
    "    seed=seed,\n",
    ")\n",
    "data.run()\n",
    "mu = data.get_period_return_mean_vector()\n",
    "sigma = data.get_period_return_covariance_matrix()"
   ]
  },
  {
   "cell_type": "code",
   "execution_count": 25,
   "id": "57ea70ab",
   "metadata": {
    "scrolled": false
   },
   "outputs": [
    {
     "data": {
      "text/plain": [
       "array([[ 7.59392137e-04, -3.68327607e-05, -1.51220518e-05,\n",
       "         3.47598567e-05,  9.80746179e-06,  6.20182332e-06,\n",
       "         1.89361671e-05, -2.36908856e-05, -2.91801053e-05,\n",
       "         1.24871130e-05],\n",
       "       [-3.68327607e-05,  1.11710377e-04,  1.63237428e-05,\n",
       "         3.83861471e-05,  4.56143605e-07, -3.72607198e-05,\n",
       "        -1.86771710e-05, -7.20883375e-06, -2.11190328e-05,\n",
       "         8.72314848e-06],\n",
       "       [-1.51220518e-05,  1.63237428e-05,  1.89906342e-04,\n",
       "         8.15446963e-05,  1.58930258e-05, -6.03289112e-05,\n",
       "        -1.39523128e-05, -1.50279723e-05, -1.63272706e-05,\n",
       "        -5.65214848e-06],\n",
       "       [ 3.47598567e-05,  3.83861471e-05,  8.15446963e-05,\n",
       "         3.08927492e-03,  1.27053333e-04, -3.84050246e-04,\n",
       "         3.53672436e-05, -4.69185138e-05, -6.81216919e-06,\n",
       "         2.37712204e-05],\n",
       "       [ 9.80746179e-06,  4.56143605e-07,  1.58930258e-05,\n",
       "         1.27053333e-04,  6.40386254e-04, -2.87723091e-05,\n",
       "        -1.21489983e-05,  2.43404194e-05, -3.38874278e-05,\n",
       "         7.74918187e-08],\n",
       "       [ 6.20182332e-06, -3.72607198e-05, -6.03289112e-05,\n",
       "        -3.84050246e-04, -2.87723091e-05,  2.00437290e-03,\n",
       "         6.62770763e-05,  5.66677054e-05, -1.92239525e-05,\n",
       "         1.35977343e-05],\n",
       "       [ 1.89361671e-05, -1.86771710e-05, -1.39523128e-05,\n",
       "         3.53672436e-05, -1.21489983e-05,  6.62770763e-05,\n",
       "         1.09884140e-04,  1.02235951e-05,  7.08479986e-06,\n",
       "         1.11685813e-05],\n",
       "       [-2.36908856e-05, -7.20883375e-06, -1.50279723e-05,\n",
       "        -4.69185138e-05,  2.43404194e-05,  5.66677054e-05,\n",
       "         1.02235951e-05,  1.57271115e-04, -6.51536775e-06,\n",
       "         1.02429430e-05],\n",
       "       [-2.91801053e-05, -2.11190328e-05, -1.63272706e-05,\n",
       "        -6.81216919e-06, -3.38874278e-05, -1.92239525e-05,\n",
       "         7.08479986e-06, -6.51536775e-06,  1.77293058e-04,\n",
       "         2.18398567e-05],\n",
       "       [ 1.24871130e-05,  8.72314848e-06, -5.65214848e-06,\n",
       "         2.37712204e-05,  7.74918187e-08,  1.35977343e-05,\n",
       "         1.11685813e-05,  1.02429430e-05,  2.18398567e-05,\n",
       "         1.83614005e-04]])"
      ]
     },
     "execution_count": 25,
     "metadata": {},
     "output_type": "execute_result"
    }
   ],
   "source": [
    "sigma"
   ]
  },
  {
   "cell_type": "code",
   "execution_count": 26,
   "id": "95b3c4ee",
   "metadata": {},
   "outputs": [
    {
     "data": {
      "text/plain": [
       "array([ 2.88520500e-03,  1.54469546e-03,  1.02519190e-04,  1.56356397e-03,\n",
       "       -2.57041246e-03, -6.31579377e-03,  2.02568913e-03, -8.68847796e-04,\n",
       "        3.44906844e-05,  1.48431311e-03])"
      ]
     },
     "execution_count": 26,
     "metadata": {},
     "output_type": "execute_result"
    }
   ],
   "source": [
    "mu"
   ]
  },
  {
   "cell_type": "code",
   "execution_count": 27,
   "id": "41df3a32",
   "metadata": {},
   "outputs": [
    {
     "data": {
      "image/png": "[encoded data removed]",
      "text/plain": [
       "<Figure size 432x288 with 1 Axes>"
      ]
     },
     "metadata": {
      "needs_background": "light"
     },
     "output_type": "display_data"
    }
   ],
   "source": [
    "plt.imshow(sigma, interpolation=\"nearest\")\n",
    "plt.show()"
   ]
  },
  {
   "cell_type": "markdown",
   "id": "1eb15c7b",
   "metadata": {},
   "source": [
    "#### Quadratic problem"
   ]
  },
  {
   "cell_type": "code",
   "execution_count": 28,
   "id": "691cc890",
   "metadata": {},
   "outputs": [
    {
     "data": {
      "text/plain": [
       "<QuadraticProgram: minimize 0.00037969606837460275*x_0^2 - 3.6832760681902446e..., 10 variables, 1 constraints, 'Portfolio optimization'>"
      ]
     },
     "execution_count": 28,
     "metadata": {},
     "output_type": "execute_result"
    }
   ],
   "source": [
    "q = 0.5  # set risk factor\n",
    "budget = num_assets // 2  # set budget\n",
    "penalty = num_assets  # set parameter to scale the budget penalty term\n",
    "\n",
    "portfolio = PortfolioOptimization(\n",
    "    expected_returns=mu, covariances=sigma, risk_factor=q, budget=budget\n",
    ")\n",
    "qp = portfolio.to_quadratic_program()\n",
    "qp"
   ]
  },
  {
   "cell_type": "code",
   "execution_count": 29,
   "id": "83ceaaf1",
   "metadata": {},
   "outputs": [],
   "source": [
    "def index_to_selection(i, num_assets):\n",
    "    s = \"{0:b}\".format(i).rjust(num_assets)\n",
    "    x = np.array([1 if s[i] == \"1\" else 0 for i in reversed(range(num_assets))])\n",
    "    return x\n",
    "\n",
    "\n",
    "def print_result(result):\n",
    "    selection = result.x\n",
    "    value = result.fval\n",
    "    print(\"Optimal: selection {}, value {:.4f}\".format(selection, value))\n",
    "\n",
    "#     eigenstate = result.min_eigen_solver_result.eigenstate\n",
    "#     eigenvector = eigenstate if isinstance(eigenstate, np.ndarray) else eigenstate.to_matrix()\n",
    "#     probabilities = np.abs(eigenvector) ** 2\n",
    "#     i_sorted = reversed(np.argsort(probabilities))\n",
    "#     print(\"\\n----------------- Full result ---------------------\")\n",
    "#     print(\"selection\\tvalue\\t\\tprobability\")\n",
    "#     print(\"---------------------------------------------------\")\n",
    "#     for i in i_sorted:\n",
    "#         x = index_to_selection(i, num_assets)\n",
    "#         value = QuadraticProgramToQubo().convert(qp).objective.evaluate(x)\n",
    "#         # value = portfolio.to_quadratic_program().objective.evaluate(x)\n",
    "#         probability = probabilities[i]\n",
    "#         print(\"%10s\\t%.4f\\t\\t%.4f\" % (x, value, probability))"
   ]
  },
  {
   "cell_type": "markdown",
   "id": "1f6ffc55",
   "metadata": {},
   "source": [
    "#### VQE"
   ]
  },
  {
   "cell_type": "code",
   "execution_count": 30,
   "id": "c574ebd5",
   "metadata": {
    "scrolled": false
   },
   "outputs": [
    {
     "name": "stdout",
     "output_type": "stream",
     "text": [
      "Optimal: selection [1. 1. 1. 0. 0. 0. 1. 0. 1. 0.], value -0.0060\n"
     ]
    }
   ],
   "source": [
    "from qiskit.utils import algorithm_globals\n",
    "\n",
    "algorithm_globals.random_seed = 1234\n",
    "backend = Aer.get_backend(\"statevector_simulator\")\n",
    "\n",
    "cobyla = COBYLA()\n",
    "cobyla.set_options(maxiter=500)\n",
    "ry = TwoLocal(num_assets, \"ry\", \"cz\", reps=3, entanglement=\"full\")\n",
    "quantum_instance = QuantumInstance(backend=backend, seed_simulator=seed, seed_transpiler=seed)\n",
    "vqe_mes = VQE(ry, optimizer=cobyla, quantum_instance=quantum_instance)\n",
    "vqe = MinimumEigenOptimizer(vqe_mes)\n",
    "result = vqe.solve(qp)\n",
    "\n",
    "print_result(result)"
   ]
  },
  {
   "cell_type": "markdown",
   "id": "57dc6068",
   "metadata": {},
   "source": [
    "#### QAOA"
   ]
  },
  {
   "cell_type": "code",
   "execution_count": 31,
   "id": "93ba718a",
   "metadata": {},
   "outputs": [
    {
     "name": "stdout",
     "output_type": "stream",
     "text": [
      "Optimal: selection [1. 1. 1. 0. 0. 0. 1. 0. 0. 1.], value -0.0074\n"
     ]
    }
   ],
   "source": [
    "algorithm_globals.random_seed = 1234\n",
    "backend = Aer.get_backend(\"statevector_simulator\")\n",
    "\n",
    "cobyla = COBYLA()\n",
    "cobyla.set_options(maxiter=250)\n",
    "quantum_instance = QuantumInstance(backend=backend, seed_simulator=seed, seed_transpiler=seed)\n",
    "qaoa_mes = QAOA(optimizer=cobyla, reps=3, quantum_instance=quantum_instance)\n",
    "qaoa = MinimumEigenOptimizer(qaoa_mes)\n",
    "result = qaoa.solve(qp)\n",
    "\n",
    "print_result(result)"
   ]
  },
  {
   "cell_type": "markdown",
   "id": "93d96e67",
   "metadata": {},
   "source": [
    "#### Decomposition"
   ]
  },
  {
   "cell_type": "code",
   "execution_count": 32,
   "id": "b0e9c902",
   "metadata": {},
   "outputs": [
    {
     "data": {
      "image/png": "[encoded data removed]",
      "text/plain": [
       "<Figure size 1471.2x325.08 with 1 Axes>"
      ]
     },
     "execution_count": 32,
     "metadata": {},
     "output_type": "execute_result"
    }
   ],
   "source": [
    "repeat = 4\n",
    "\n",
    "qc = QuantumCircuit(5)\n",
    "pv = ParameterVector('p_1', 10*repeat)\n",
    "\n",
    "t = 0\n",
    "for i in range(repeat):   \n",
    "    qc.ry(pv[t], 0)\n",
    "    qc.rz(pv[t+1],0)\n",
    "    qc.ry(pv[t+2], 1)\n",
    "    qc.rz(pv[t+3], 1)\n",
    "    qc.ry(pv[t+4], 2)\n",
    "    qc.rz(pv[t+5], 2)\n",
    "    qc.ry(pv[t+6], 3)\n",
    "    qc.rz(pv[t+7], 3)\n",
    "    qc.ry(pv[t+8], 4)\n",
    "    qc.rz(pv[t+9], 4)\n",
    "    if i < repeat-1: \n",
    "        qc.cnot(0,1)\n",
    "        qc.cnot(1,2)\n",
    "        qc.cnot(2,3)\n",
    "        qc.cnot(3,4)\n",
    "        qc.cnot(4,0)\n",
    "    t += 10\n",
    "\n",
    "qc.draw(output=\"mpl\")"
   ]
  },
  {
   "cell_type": "code",
   "execution_count": 33,
   "id": "3099861d",
   "metadata": {
    "scrolled": false
   },
   "outputs": [],
   "source": [
    "qc = QuantumCircuit(10)\n",
    " \n",
    "r = 4\n",
    "theta = ParameterVector('p',2*10*r)\n",
    "\n",
    "t = 0\n",
    "for i in range(r):   \n",
    "    qc.ry(theta[t], 0)\n",
    "    qc.rz(theta[t+1],0)\n",
    "    qc.ry(theta[t+2], 1)\n",
    "    qc.rz(theta[t+3], 1)\n",
    "    qc.ry(theta[t+4], 2)\n",
    "    qc.rz(theta[t+5], 2)\n",
    "    qc.ry(theta[t+6], 3)\n",
    "    qc.rz(theta[t+7], 3)\n",
    "    qc.ry(theta[t+8], 4)\n",
    "    qc.rz(theta[t+9], 4)\n",
    "    if i < r-1: \n",
    "        qc.cnot(0,1)\n",
    "        qc.cnot(1,2)\n",
    "        qc.cnot(2,3)\n",
    "        qc.cnot(3,4)\n",
    "        qc.cnot(4,0)\n",
    "    t += 10\n",
    "\n",
    "t = int(len(theta)/2)\n",
    "for i in range(r):   \n",
    "    qc.ry(theta[t], 5)\n",
    "    qc.rz(theta[t+1],5)\n",
    "    qc.ry(theta[t+2], 6)\n",
    "    qc.rz(theta[t+3], 6)\n",
    "    qc.ry(theta[t+4], 7)\n",
    "    qc.rz(theta[t+5], 7)\n",
    "    qc.ry(theta[t+6], 8)\n",
    "    qc.rz(theta[t+7], 8)\n",
    "    qc.ry(theta[t+8], 9)\n",
    "    qc.rz(theta[t+9], 9)\n",
    "    if i < r-1: \n",
    "        qc.cnot(5,6)\n",
    "        qc.cnot(6,7)\n",
    "        qc.cnot(7,8)\n",
    "        qc.cnot(8,9)\n",
    "        qc.cnot(9,0)\n",
    "    t += 10"
   ]
  },
  {
   "cell_type": "code",
   "execution_count": 34,
   "id": "0ad53261",
   "metadata": {},
   "outputs": [
    {
     "name": "stdout",
     "output_type": "stream",
     "text": [
      "[1. 1. 1. 0. 0. 0. 1. 0. 0. 1.]\n"
     ]
    }
   ],
   "source": [
    "algorithm_globals.random_seed = 1234\n",
    "backend = Aer.get_backend(\"statevector_simulator\")\n",
    "\n",
    "# backend = Aer.get_backend('aer_simulator')\n",
    "# backend.shots = 1024\n",
    "\n",
    "cobyla = COBYLA()\n",
    "cobyla.set_options(maxiter=500)\n",
    "\n",
    "quantum_instance = QuantumInstance(backend=backend, seed_simulator=seed, seed_transpiler=seed)\n",
    "vqe_mes = VQE(qc, optimizer=cobyla, quantum_instance=quantum_instance)\n",
    "vqe = MinimumEigenOptimizer(vqe_mes)\n",
    "result = vqe.solve(qp)\n",
    "\n",
    "print(result.x)"
   ]
  }
 ],
 "metadata": {
  "kernelspec": {
   "display_name": "Python 3 (ipykernel)",
   "language": "python",
   "name": "python3"
  },
  "language_info": {
   "codemirror_mode": {
    "name": "ipython",
    "version": 3
   },
   "file_extension": ".py",
   "mimetype": "text/x-python",
   "name": "python",
   "nbconvert_exporter": "python",
   "pygments_lexer": "ipython3",
   "version": "3.9.12"
  }
 },
 "nbformat": 4,
 "nbformat_minor": 5
}
