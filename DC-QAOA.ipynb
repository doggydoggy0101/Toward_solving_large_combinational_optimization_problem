{
 "cells": [
  {
   "cell_type": "code",
   "execution_count": 2,
   "id": "02a8ad2b-f7af-4502-b792-2e4c86365b89",
   "metadata": {},
   "outputs": [],
   "source": [
    "import numpy as np\n",
    "\n",
    "# Importing standard Qiskit libraries\n",
    "from qiskit import QuantumCircuit, transpile, Aer, IBMQ\n",
    "from qiskit.tools.jupyter import *\n",
    "from qiskit.visualization import *\n",
    "from ibm_quantum_widgets import *\n",
    "from qiskit.providers.aer import QasmSimulator\n",
    "\n",
    "# Loading your IBM Quantum account(s)\n",
    "provider = IBMQ.load_account()"
   ]
  },
  {
   "cell_type": "code",
   "execution_count": 79,
   "id": "1a3bbc02-b64f-49b8-982b-303d8c157a87",
   "metadata": {},
   "outputs": [],
   "source": [
    "import networkx as nx # networkx的版本 >= 2.5\n",
    "import matplotlib.pyplot as plt\n",
    "from itertools import combinations\n",
    "import warnings\n",
    "warnings.filterwarnings(\"ignore\")\n",
    "\n",
    "# 将一个图形分割成两个有重合的分离顶点子图\n",
    "def NaiveLGP(g, k):\n",
    "    E = list(g.edges)\n",
    "    E = [(min([u, v]),max([u, v])) for (u, v) in E]\n",
    "    E.sort(key=lambda tup:tup[0])\n",
    "    V = list(g.nodes)\n",
    "    V.sort()\n",
    "\n",
    "    counter = 1\n",
    "    while True:\n",
    "        num_nodes = counter\n",
    "        nodes_combo = list(combinations(V, num_nodes))\n",
    "        # 找有效的分离顶点\n",
    "        for p in nodes_combo:\n",
    "            V1 = [x for x in V if x not in p]\n",
    "            E1 = [e for e in g.edges if e not in g.edges(p)]\n",
    "            G1 = nx.Graph()\n",
    "            G1.add_nodes_from(V1)\n",
    "            G1.add_edges_from(E1)\n",
    "            S = [G1.subgraph(c).copy() for c in nx.connected_components(G1)]\n",
    "            if len(S) == 2:\n",
    "                # 将分离顶点加入不相连的子图中\n",
    "                V_S0 = list(S[0].nodes)\n",
    "                E_S0 = list(S[0].edges)   \n",
    "                V_S1 = list(S[1].nodes)\n",
    "                E_S1 = list(S[1].edges)\n",
    "                for (u, v) in g.edges(p):\n",
    "                    if u in V_S0 or v in V_S0:\n",
    "                        S[0].add_edges_from([(u, v)])\n",
    "                    if u in V_S1 or v in V_S1:\n",
    "                        S[1].add_edges_from([(u, v)])\n",
    "                    if u in p and v in p:\n",
    "                        S[0].add_edges_from([(u, v)])\n",
    "                        S[1].add_edges_from([(u, v)])\n",
    "\n",
    "                return S\n",
    "\n",
    "        counter += 1\n",
    "    print(\"G的连接度大于k\")\n",
    "\n",
    "    return {}"
   ]
  },
  {
   "cell_type": "code",
   "execution_count": 4,
   "id": "bb378425-96b6-4a4e-a3d8-0bf6cac60e4a",
   "metadata": {},
   "outputs": [
    {
     "data": {
      "image/png": "[encoded data removed]",
      "text/plain": [
       "<Figure size 1080x288 with 3 Axes>"
      ]
     },
     "metadata": {},
     "output_type": "display_data"
    }
   ],
   "source": [
    "# 生成一个有 10 个顶点的图形\n",
    "n = 10\n",
    "G = nx.Graph()\n",
    "G.add_nodes_from([0, 1, 2, 3, 4, 5, 6, 7, 8, 9])\n",
    "G.add_edges_from([(0, 1), (1, 2), (2, 3), (3, 4), (4, 5), (1, 7),\n",
    "                  (5, 6), (6, 7), (7, 8), (8, 9), (9, 0)])\n",
    "    \n",
    "k = 9 # 设定量子比特的最大数量\n",
    "S = NaiveLGP(G,k) # 利用大图分割对图形 G 进行分割\n",
    "sep_node = list(set(S[0].nodes).intersection(set(S[1].nodes))) # 找到分离顶点\n",
    "\n",
    "# 图形示例\n",
    "options = {\n",
    "    \"with_labels\": True,\n",
    "    \"font_color\": \"white\"\n",
    "}\n",
    "node_color1 = [\"red\" if i in sep_node else \"blue\" for i in range(n)]\n",
    "node_color2 = [\"red\" if list(S[0].nodes)[i] in sep_node else \"blue\" for i in range(len(S[0].nodes))]\n",
    "node_color3 = [\"red\" if list(S[1].nodes)[i] in sep_node else \"blue\" for i in range(len(S[1].nodes))]\n",
    "\n",
    "fig, ax = plt.subplots(1, 3, figsize=(15, 4))\n",
    "for i, a in enumerate(ax):\n",
    "    a.axis('off')\n",
    "    a.margins(0.20)\n",
    "nx.draw_networkx(G, pos=nx.circular_layout(G), ax=ax[0], **options, node_color=node_color1)\n",
    "nx.draw_networkx(S[0], pos=nx.circular_layout(S[0]), ax=ax[1], **options, node_color=node_color2)\n",
    "nx.draw_networkx(S[1], pos=nx.circular_layout(S[1]), ax=ax[2], **options, node_color=node_color3)"
   ]
  },
  {
   "cell_type": "code",
   "execution_count": 5,
   "id": "21bedb67-9dcb-4f25-abbc-79b725e1b5d9",
   "metadata": {},
   "outputs": [],
   "source": [
    "def GR(str_cnt1, str_cnt2):\n",
    "    com_cnt = []\n",
    "    n = len(str_cnt1[0][0])\n",
    "    com_index = []\n",
    "    for i in range(n):\n",
    "        if str_cnt1[0][0][i] != \"x\" and str_cnt2[0][0][i] != \"x\":\n",
    "            com_index.append(i)\n",
    "\n",
    "    for (str1, cnt1) in str_cnt1:\n",
    "        for (str2, cnt2)  in str_cnt2:           \n",
    "            # 检查分离顶点在两个子图所在的集合是否一致\n",
    "            validity = [str1[i] == str2[i] for i in com_index]\n",
    "            if False not in validity:\n",
    "                com_str = [[0]] * n\n",
    "                for i in range(n):\n",
    "                    if str1[i] != \"x\":\n",
    "                        com_str[i] = str(str1[i])\n",
    "                    else:\n",
    "                        com_str[i] = str(str2[i])\n",
    "                com_cnt.append((\"\".join(com_str), min(cnt1, cnt2)))\n",
    "\n",
    "    # 将{最大割：频率}按频率从大到小排列\n",
    "    com_cnt.sort(key=lambda tup:tup[1])\n",
    "    return com_cnt[::-1]"
   ]
  },
  {
   "cell_type": "code",
   "execution_count": 27,
   "id": "9a7f94d3-ee26-4b55-ada5-ad4c5162b4ef",
   "metadata": {},
   "outputs": [
    {
     "name": "stdout",
     "output_type": "stream",
     "text": [
      "nodes [1, 2, 3, 4, 5, 6, 0, 7]\n",
      "result [1.99093443 1.12914755]\n",
      "nodes [8, 9, 0, 7]\n",
      "result [1.14841032 0.5160144 ]\n",
      "Max cut for the first partitioned subgraph: \n",
      "{'01101011xx': 48, '01001010xx': 40, '10010100xx': 39, '11001010xx': 36, '10110101xx': 33, '00101011xx': 28, '11001100xx': 28, '11010100xx': 27, '00110101xx': 26, '00110011xx': 25}\n",
      "Max cut for the second partitioned subgraph: \n",
      "{'1xxxxxx010': 252, '0xxxxxx101': 231, '0xxxxxx011': 117, '1xxxxxx100': 111, '0xxxxxx111': 67, '1xxxxxx011': 62, '1xxxxxx000': 59, '0xxxxxx100': 51, '1xxxxxx001': 23, '0xxxxxx110': 20}\n",
      "Combined max cut for the original graph: \n",
      "{'0110101100': 48, '0110101111': 48, '0110101101': 48, '0100101011': 40, '1001010000': 39, '1001010011': 39, '1001010010': 39, '1100101000': 36, '1100101011': 36, '1100101010': 36}\n"
     ]
    }
   ],
   "source": [
    "# We use direct QAOA to compute approximate max cuts for two subgraphs\n",
    "# In the next section, we will compute these using DC-QAOA because subgraphs might also exceed the qubit limit\n",
    "# import paddle\n",
    "# from paddle_quantum.QAOA.maxcut import find_cut\n",
    "import qiskit\n",
    "from qiskit.algorithms import QAOA\n",
    "from qiskit import QuantumCircuit, ClassicalRegister, QuantumRegister\n",
    "from qiskit import Aer, execute\n",
    "from qiskit.circuit import Parameter\n",
    "from scipy.optimize import minimize\n",
    "\n",
    "from qiskit.visualization import plot_histogram\n",
    "\n",
    "def maxcut_obj(x, G):\n",
    "    \"\"\"\n",
    "    Given a bitstring as a solution, this function returns\n",
    "    the number of edges shared between the two partitions\n",
    "    of the graph.\n",
    "    \n",
    "    Args:\n",
    "        x: str\n",
    "           solution bitstring\n",
    "           \n",
    "        G: networkx graph\n",
    "        \n",
    "    Returns:\n",
    "        obj: float\n",
    "             Objective\n",
    "    \"\"\"\n",
    "\n",
    "    tmp = 0\n",
    "    mapping = {}\n",
    "    for node in G.nodes():\n",
    "        mapping[node] = tmp\n",
    "        tmp += 1\n",
    "    obj = 0\n",
    "\n",
    "        \n",
    "    for i, j in G.edges():\n",
    "        if x[mapping[i]] != x[mapping[j]]:\n",
    "            obj -= 1\n",
    "    return obj\n",
    "\n",
    "def create_qaoa_circ(G, theta):\n",
    "    \n",
    "    \"\"\"\n",
    "    Creates a parametrized qaoa circuit\n",
    "    \n",
    "    Args:  \n",
    "        G: networkx graph\n",
    "        theta: list\n",
    "               unitary parameters\n",
    "                     \n",
    "    Returns:\n",
    "        qc: qiskit circuit\n",
    "    \"\"\"\n",
    "    \n",
    "    nqubits = len(G.nodes())\n",
    "    p = len(theta)//2  # number of alternating unitaries\n",
    "    qc = QuantumCircuit(nqubits)\n",
    "    \n",
    "    beta = theta[:p]\n",
    "    gamma = theta[p:]\n",
    "    \n",
    "    # initial_state\n",
    "    for i in range(0, nqubits):\n",
    "        qc.h(i)\n",
    "    \n",
    "    tmp = 0\n",
    "    mapping = {}\n",
    "    for node in G.nodes():\n",
    "        mapping[node] = tmp\n",
    "        tmp += 1\n",
    "    \n",
    "    for irep in range(0, p):\n",
    "        \n",
    "        # problem unitary\n",
    "        for pair in list(G.edges()):\n",
    "            qc.rzz(2 * gamma[irep], mapping[pair[0]], mapping[pair[1]])\n",
    "\n",
    "        # mixer unitary\n",
    "        for i in range(0, nqubits):\n",
    "            qc.rx(2 * beta[irep], i)\n",
    "            \n",
    "    qc.measure_all()\n",
    "        \n",
    "    return qc\n",
    "\n",
    "\n",
    "def compute_expectation(counts, G):\n",
    "    \n",
    "    \"\"\"\n",
    "    Computes expectation value based on measurement results\n",
    "    \n",
    "    Args:\n",
    "        counts: dict\n",
    "                key as bitstring, val as count\n",
    "           \n",
    "        G: networkx graph\n",
    "        \n",
    "    Returns:\n",
    "        avg: float\n",
    "             expectation value\n",
    "    \"\"\"\n",
    "    \n",
    "    avg = 0\n",
    "    sum_count = 0\n",
    "    for bitstring, count in counts.items():\n",
    "        \n",
    "        obj = maxcut_obj(bitstring, G)\n",
    "        avg += obj * count\n",
    "        sum_count += count\n",
    "        \n",
    "    return avg/sum_count\n",
    "\n",
    "def get_expectation(G, p, shots=512):\n",
    "    \n",
    "    \"\"\"\n",
    "    Runs parametrized circuit\n",
    "    \n",
    "    Args:\n",
    "        G: networkx graph\n",
    "        p: int,\n",
    "           Number of repetitions of unitaries\n",
    "    \"\"\"\n",
    "    \n",
    "    backend = Aer.get_backend('qasm_simulator')\n",
    "    backend.shots = shots\n",
    "    \n",
    "    def execute_circ(theta):\n",
    "        \n",
    "        qc = create_qaoa_circ(G, theta)\n",
    "        counts = backend.run(qc, seed_simulator=10, \n",
    "                             nshots=512).result().get_counts()\n",
    "        \n",
    "        return compute_expectation(counts, G)\n",
    "    \n",
    "    return execute_circ\n",
    "\n",
    "# Set QAOA parameters\n",
    "p = 3 # Number of layers of QAOA circuit\n",
    "ITR = 100 # Iterations of the training network of QAOA\n",
    "LR = 0.5 # Learning rate in the training network of QAOA\n",
    "# Set graph reconstruction parameter\n",
    "t = 10 # Number of partition strings kept after graph reconstruction \n",
    "# paddle.seed(999)  # Fix the seed\n",
    "\n",
    "# Start graph reconstruction procedure\n",
    "S_str_cnt = []\n",
    "for si in S:\n",
    "    adjacency_i = nx.adjacency_matrix(si).todense()\n",
    "    siv = list(si.nodes)\n",
    "    print('nodes',siv)\n",
    "    n_qubits = len(siv)\n",
    "\n",
    "    expectation = get_expectation(si, p=1)\n",
    "    # print('exp_val', expectation)\n",
    "\n",
    "    res = minimize(expectation, \n",
    "                        [1.0, 1.0], \n",
    "                        method='COBYLA')\n",
    "    # print(res)\n",
    "    exp_val_i = res.x\n",
    "    print('result', res.x)\n",
    "    qc_res = create_qaoa_circ(si, res.x)\n",
    "\n",
    "    \n",
    "\n",
    "    backend = Aer.get_backend('aer_simulator')\n",
    "    backend.shots = 512\n",
    "\n",
    "    qc_res = create_qaoa_circ(si, res.x)\n",
    "\n",
    "    counts = backend.run(qc_res, seed_simulator=10).result().get_counts()\n",
    "    # print(counts)\n",
    "    counts = {k: v for k, v in sorted(counts.items(), key=lambda item: -item[1])}\n",
    "    # print(counts)\n",
    "    # for item in counts.items():\n",
    "        # print(item)\n",
    "    # plot_histogram(counts)\n",
    "    # print('--------------')\n",
    "    # beta = Parameter(\"$\\\\beta$\")\n",
    "    # qc_mix = QuantumCircuit(n_qubits)\n",
    "    # qaoa_qc_i = create_qaoa_circ(si, theta)\n",
    "    # Compute the subgraph's maxcut\n",
    "    # tmp, si_str_cnt_relabeled = find_cut(si, p, ITR, LR)\n",
    "    # print(tmp)\n",
    "    # print('si_str_cnt_relabeled', si_str_cnt_relabeled)\n",
    "    # Make the subgraph's maxcut match the original graph by relabeling \n",
    "    si_str_cnt = []\n",
    "    for bitstring, score in counts.items():\n",
    "        strr = \"\"\n",
    "        for i in range(len(G.nodes)):\n",
    "            if i in siv:\n",
    "                strr += bitstring[siv.index(i)]\n",
    "            else:\n",
    "                strr += \"x\"\n",
    "        si_str_cnt.append((strr, score))\n",
    "    si_str_cnt.sort(key=lambda tup:tup[1])\n",
    "    S_str_cnt.append(si_str_cnt[::-1][:t])\n",
    "\n",
    "# Once we have already obtained max cut strings for two partitions, we perform the graph reconstruction (GR)\n",
    "print(\"Max cut for the first partitioned subgraph: \\n\" + str(dict(S_str_cnt[0])))\n",
    "print(\"Max cut for the second partitioned subgraph: \\n\" + str(dict(S_str_cnt[1])))\n",
    "out_cnt = GR(S_str_cnt[0], S_str_cnt[1])\n",
    "print(\"Combined max cut for the original graph: \\n\" + str(dict(out_cnt[:t])))"
   ]
  },
  {
   "cell_type": "code",
   "execution_count": 17,
   "id": "5729fbbf-e336-42c2-8099-673c4c243290",
   "metadata": {},
   "outputs": [],
   "source": [
    "import cvxpy as cvx\n",
    "import networkx as nx\n",
    "\n",
    "def sdp_solver(G):\n",
    "    \"\"\"\n",
    "    通过半正定规划 SDP 来找到最大割问题的理论上界。\n",
    "    \"\"\"\n",
    "    n = len(G)\n",
    "    adj_mat = nx.adjacency_matrix(G).toarray()\n",
    "    Y = cvx.Variable((n, n), PSD=True)\n",
    "    cut_size = 0.25 * cvx.sum(cvx.multiply(adj_mat, 1 - Y))\n",
    "    problem = cvx.Problem(cvx.Maximize(cut_size), [cvx.diag(Y) == 1])\n",
    "    opt_val = problem.solve(cvx.SCS)\n",
    "\n",
    "    return opt_val"
   ]
  },
  {
   "cell_type": "code",
   "execution_count": 26,
   "id": "9049e45c-6e6e-45fa-9410-05fd0ce22c31",
   "metadata": {},
   "outputs": [
    {
     "name": "stdout",
     "output_type": "stream",
     "text": [
      "半正定规划找的最大割的上限: 10.301288947057849\n"
     ]
    }
   ],
   "source": [
    "ubound_sdp = sdp_solver(G)\n",
    "    # ubound_sdp_ls.append(ubound_sdp)\n",
    "print(\"半正定规划找的最大割的上限: \" + str(ubound_sdp))\n",
    " "
   ]
  },
  {
   "cell_type": "code",
   "execution_count": 25,
   "id": "94983ead-b560-447c-a5c9-0e30a0703d6d",
   "metadata": {},
   "outputs": [
    {
     "name": "stdout",
     "output_type": "stream",
     "text": [
      "量子近似优化分治算法找到的最大割分类: 1010101010, 最大割 = 10.0\n"
     ]
    }
   ],
   "source": [
    "ans = \"1010101010\"\n",
    "cut_dc_qaoa1 = [\"solid\" if ans[u] == ans[v] else \"dashed\" for (u, v) in list(G.edges)]\n",
    "value_dc_qaoa = cut_dc_qaoa1.count(\"dashed\")\n",
    "print(\"量子近似优化分治算法找到的最大割分类: \" + str(ans) + \", 最大割 = \" + str(float(value_dc_qaoa))) "
   ]
  },
  {
   "cell_type": "code",
   "execution_count": 58,
   "id": "2780c1e3-399c-4a53-8478-207e4dc806ed",
   "metadata": {},
   "outputs": [
    {
     "name": "stdout",
     "output_type": "stream",
     "text": [
      "最有可能的 t 个图形 G 的最大割: {'1000101111': 356, '0111010100': 345, '1000101011': 322, '0111010000': 320, '0100110010': 289, '0100110110': 289, '0111011000': 268, '0111011100': 268, '1000100011': 268, '1000100111': 268}\n",
      "量子近似优化分治算法找到的图形 G 的（最有可能的）最大割: 1000101111\n"
     ]
    }
   ],
   "source": [
    "def DC_QAOA(g, p, t, s, k, ITR, LR):\n",
    "    # print(g.nodes())\n",
    "    if len(g.nodes) > k:\n",
    "        # 利用 大图分割 得到两个子图\n",
    "        S = NaiveLGP(g, k)\n",
    "\n",
    "        S_str_cnt = []\n",
    "        for si in S:\n",
    "            siv = list(si.nodes)\n",
    "            # 递归性地计算子图的最大割\n",
    "            _, result = DC_QAOA(si, p, t, s, k, ITR, LR)\n",
    "            # print(\"results\", result)\n",
    "            # 填充子图的最大割结果，使其和母图的顶点吻合\n",
    "            si_str_cnt = []\n",
    "            for bitstring, score in result.items():\n",
    "                # print(bitstring, score)\n",
    "                # strr = \"\"\n",
    "                # for v in G.nodes:\n",
    "                #     if v in siv:\n",
    "                #         strr += str_relabeled[siv.index(v)]\n",
    "                #     else:\n",
    "                #         strr += \"x\"     \n",
    "                si_str_cnt.append((bitstring, score))\n",
    "            # si_str_cnt.sort(key = lambda tup:tup[1])\n",
    "            S_str_cnt.append(si_str_cnt)\n",
    "\n",
    "        # 利用 图形重构 整合子图最大割\n",
    "        # print(\"1\", S_str_cnt[0])\n",
    "        # print(\"2\", S_str_cnt[1])\n",
    "        out_cnt = GR(S_str_cnt[0], S_str_cnt[1])\n",
    "        # print(\"merged\", out_cnt)\n",
    "    else:\n",
    "        if len(g.nodes) == 1:\n",
    "            return [(\"0\", 99999), (\"1\", 99999)]\n",
    "        \n",
    "        siv = list(g.nodes)\n",
    "        # print('nodes',siv)\n",
    "        n_qubits = len(siv)\n",
    "\n",
    "        expectation = get_expectation(g, p=1)\n",
    "        # print('exp_val', expectation)\n",
    "\n",
    "        res = minimize(expectation, \n",
    "                            [1.0, 1.0], \n",
    "                            method='COBYLA')\n",
    "        # print(res)\n",
    "        exp_val_i = res.x\n",
    "        # print('result', res.x)\n",
    "        qc_res = create_qaoa_circ(g, res.x)\n",
    "\n",
    "    \n",
    "\n",
    "        backend = Aer.get_backend('aer_simulator')\n",
    "        backend.shots = 512\n",
    "\n",
    "        qc_res = create_qaoa_circ(g, res.x)\n",
    "\n",
    "        counts = backend.run(qc_res, seed_simulator=10).result().get_counts()\n",
    "        # print(counts)\n",
    "        counts = {k: v for k, v in sorted(counts.items(), key=lambda item: -item[1])}\n",
    "\n",
    "        si_str_cnt = []\n",
    "        for bitstring, score in counts.items():\n",
    "            strr = \"\"\n",
    "            for i in range(len(G.nodes)):\n",
    "                if i in siv:\n",
    "                    strr += bitstring[siv.index(i)]\n",
    "                else:\n",
    "                    strr += \"x\"\n",
    "            si_str_cnt.append((strr, score))\n",
    "            \n",
    "        # 将词典格式转成列表格式，易于排序\n",
    "        out_cnt = si_str_cnt\n",
    "        # 将{最大割：频率}按频率从大到小排列\n",
    "        out_cnt.sort(key=lambda tup:tup[1])\n",
    "        out_cnt = out_cnt[::-1]\n",
    "\n",
    "    # 只保留最有可能的t个最大割\n",
    "    out_cnt = out_cnt[:t]\n",
    "    # print(out_cnt)\n",
    "    # 等比例调节频率的显示\n",
    "    cnt_sum = sum(cnt for (str,cnt) in out_cnt)\n",
    "    out_cnt = [(k, int(s * v / cnt_sum)) for (k, v) in out_cnt]\n",
    "\n",
    "    return out_cnt[0][0], dict(out_cnt)\n",
    "\n",
    "# 设定 量子近似优化算法 中的参数\n",
    "p = 2     # 量子电路的层数\n",
    "ITR = 100 # 训练迭代的次数\n",
    "LR = 0.5  # 基于梯度下降的优化方法的学习率\n",
    "\n",
    "# 设定 量子近似优化分治算法 中的参数\n",
    "s = 3000  # 等比例调节频率的比例\n",
    "t = 10    # 想要保留最有可能的最大割的数量\n",
    "k = 5     # 量子比特的数量限制\n",
    "\n",
    "# 量子近似优化分治算法使用\n",
    "max_cut, out_cnt = DC_QAOA(G, p, t, s, k, ITR, LR)\n",
    "print(\"最有可能的 t 个图形 G 的最大割: \" + str(out_cnt))\n",
    "print(\"量子近似优化分治算法找到的图形 G 的（最有可能的）最大割: \" + str(max_cut))"
   ]
  },
  {
   "cell_type": "code",
   "execution_count": 56,
   "id": "2450fb3e-90f0-4f1b-af3e-31b848774da0",
   "metadata": {},
   "outputs": [
    {
     "name": "stdout",
     "output_type": "stream",
     "text": [
      "results {'1xxx0': 1552, '0xxx1': 1447}\n",
      "results {'x11x0': 521, 'x10x0': 518, 'x01x0': 512, 'x10x1': 512, 'x01x1': 468, 'x00x1': 465}\n",
      "1 [('1xxx0', 1552), ('0xxx1', 1447)]\n",
      "2 [('x11x0', 521), ('x10x0', 518), ('x01x0', 512), ('x10x1', 512), ('x01x1', 468), ('x00x1', 465)]\n",
      "merged [('111x0', 521), ('110x0', 518), ('010x1', 512), ('101x0', 512), ('001x1', 468), ('000x1', 465)]\n",
      "results {'111x0': 521, '110x0': 518, '010x1': 512, '101x0': 512, '001x1': 468, '000x1': 465}\n",
      "results {'0xx10': 846, '1xx01': 779, '1xx10': 380, '0xx01': 322, '1xx00': 295, '0xx11': 292, '0xx00': 49, '1xx11': 32}\n",
      "1 [('111x0', 521), ('110x0', 518), ('010x1', 512), ('101x0', 512), ('001x1', 468), ('000x1', 465)]\n",
      "2 [('0xx10', 846), ('1xx01', 779), ('1xx10', 380), ('0xx01', 322), ('1xx00', 295), ('0xx11', 292), ('0xx00', 49), ('1xx11', 32)]\n",
      "merged [('10110', 380), ('11010', 380), ('11110', 380), ('00001', 322), ('00101', 322), ('01001', 322), ('10100', 295), ('11000', 295), ('11100', 295), ('00011', 292), ('00111', 292), ('01011', 292)]\n",
      "最有可能的 t 个图形 G 的最大割：{'10110': 347, '11010': 347, '11110': 347, '00001': 294, '00101': 294, '01001': 294, '10100': 269, '11000': 269, '11100': 269, '00011': 266}\n"
     ]
    }
   ],
   "source": [
    "\n",
    "\n",
    "G = nx.Graph()\n",
    "G.add_nodes_from([0, 1, 2, 3, 4])\n",
    "G.add_edges_from([(0, 4), (1, 2), (1, 4), (2, 4), (3, 4)])\n",
    "k = 3\n",
    "_, out_cnt = DC_QAOA(G, p, t, s, k, ITR, LR)\n",
    "print(\"最有可能的 t 个图形 G 的最大割：\" + str(dict(out_cnt)))\n",
    "\n"
   ]
  },
  {
   "cell_type": "code",
   "execution_count": 81,
   "id": "807abd07-3bd6-4b7a-8ff7-f47a760fb7d9",
   "metadata": {},
   "outputs": [
    {
     "name": "stdout",
     "output_type": "stream",
     "text": [
      "顶点数量 = 20\n",
      "顶点编号 = [0, 1, 2, 3, 4, 5, 6, 7, 8, 9, 10, 11, 12, 13, 14, 15, 16, 17, 18, 19]\n",
      "\n",
      "随机图形 1\n",
      "边 = [(0, 2), (0, 9), (0, 12), (0, 13), (0, 14), (1, 4), (2, 5), (2, 10), (2, 16), (3, 7), (3, 8), (3, 10), (3, 11), (3, 13), (3, 15), (3, 19), (4, 5), (4, 15), (4, 16), (5, 7), (5, 9), (5, 13), (6, 10), (6, 13), (6, 16), (6, 17), (6, 18), (7, 12), (7, 13), (7, 18), (7, 19), (8, 17), (9, 10), (9, 12), (9, 18), (10, 11), (10, 15), (10, 16), (10, 18), (11, 12), (12, 19), (13, 14), (15, 18), (16, 17)]\n",
      "半正定规划找的最大割的上限: 35.53446878271906\n",
      "量子近似优化分治算法找到的最大割分类: 00101111110110111001, 最大割 = 27.0\n",
      "\n",
      "随机图形 2\n",
      "边 = [(0, 1), (0, 9), (0, 11), (0, 18), (0, 19), (1, 10), (1, 12), (1, 13), (1, 17), (2, 7), (3, 17), (4, 5), (4, 8), (4, 9), (4, 18), (4, 19), (5, 6), (5, 19), (6, 9), (6, 10), (6, 12), (6, 13), (6, 15), (6, 16), (7, 11), (7, 14), (8, 12), (9, 12), (9, 13), (10, 14), (10, 16), (11, 12), (11, 14), (11, 18), (12, 15), (13, 15), (13, 18), (15, 18), (15, 19), (16, 18), (16, 19), (17, 18), (17, 19)]\n",
      "半正定规划找的最大割的上限: 36.37845800209718\n",
      "量子近似优化分治算法找最大割失败，错误信息：'list index out of range'\n",
      "\n",
      "随机图形 3\n",
      "边 = [(0, 1), (0, 4), (0, 7), (0, 9), (0, 10), (0, 13), (0, 18), (1, 5), (1, 6), (1, 7), (1, 12), (1, 17), (2, 12), (3, 6), (3, 10), (3, 12), (3, 18), (3, 19), (4, 11), (4, 14), (4, 18), (4, 19), (5, 9), (5, 10), (5, 11), (5, 12), (5, 15), (6, 7), (6, 9), (6, 12), (6, 13), (6, 16), (6, 18), (7, 8), (7, 9), (8, 10), (8, 13), (8, 19), (9, 10), (9, 14), (9, 15), (9, 18), (10, 13), (10, 16), (11, 15), (11, 18), (13, 17), (14, 19), (15, 16), (17, 18)]\n",
      "半正定规划找的最大割的上限: 39.67417233668007\n",
      "量子近似优化分治算法找最大割失败，错误信息：'list index out of range'\n",
      "\n",
      "随机图形 4\n",
      "边 = [(0, 3), (0, 8), (0, 11), (0, 13), (1, 7), (1, 15), (2, 5), (2, 12), (3, 5), (3, 10), (3, 12), (3, 16), (3, 17), (4, 9), (4, 15), (4, 16), (4, 17), (4, 18), (4, 19), (5, 6), (5, 17), (6, 12), (6, 13), (6, 14), (6, 15), (6, 18), (7, 19), (8, 13), (8, 14), (8, 17), (8, 18), (8, 19), (9, 10), (9, 11), (9, 19), (10, 13), (10, 15), (10, 17), (10, 19), (11, 12), (11, 17), (12, 15), (12, 16), (12, 17), (13, 14), (13, 15), (14, 18), (15, 17), (17, 18)]\n",
      "半正定规划找的最大割的上限: 38.23636107900194\n",
      "量子近似优化分治算法找最大割失败，错误信息：'list index out of range'\n",
      "\n",
      "随机图形 5\n",
      "边 = [(0, 17), (1, 2), (1, 7), (1, 16), (1, 17), (2, 18), (3, 7), (3, 10), (3, 16), (4, 19), (5, 7), (5, 9), (5, 10), (6, 10), (6, 12), (7, 15), (8, 9), (8, 14), (8, 17), (8, 19), (10, 12), (11, 15), (11, 18), (12, 16), (12, 18), (13, 15), (13, 16), (13, 18), (13, 19), (16, 18)]\n",
      "半正定规划找的最大割的上限: 27.447165211150924\n",
      "量子近似优化分治算法找到的最大割分类: 10011100110011011000, 最大割 = 18.0\n"
     ]
    }
   ],
   "source": [
    "n = 20\n",
    "iter = 5\n",
    "print(\"顶点数量 = \" + str(n))\n",
    "print(\"顶点编号 = \" + str([i for i in range(n)]))\n",
    "\n",
    "value_dc_qaoa_ls = []\n",
    "ubound_sdp_ls = []\n",
    "for i in range(iter):\n",
    "    print(\"\\n随机图形 \" + str(i+1))\n",
    "    # 生成随机图形\n",
    "    G = nx.erdos_renyi_graph(n, 0.2, 100 * i, directed=False)\n",
    "    while nx.is_connected(G) == False:\n",
    "        G = nx.erdos_renyi_graph(n, 0.2, directed=False)\n",
    "    print(\"边 = \" + str(list(G.edges)))\n",
    "    \n",
    "    # 半正定规划（SDP）方法找最大割的上限\n",
    "    ubound_sdp = sdp_solver(G)\n",
    "    ubound_sdp_ls.append(ubound_sdp)\n",
    "    print(\"半正定规划找的最大割的上限: \" + str(ubound_sdp))\n",
    "\n",
    "\n",
    "    # 设定 量子近似优化算法 中的参数\n",
    "    p = 3      # 量子电路的层数\n",
    "    ITR = 100  # 训练迭代的次数\n",
    "    LR = 0.5   # 基于梯度下降的优化方法的学习率\n",
    "    # 设定 量子近似优化分治算法 中的参数\n",
    "    s = 3000   # 等比例调节频率的比例\n",
    "    t = 10     # 想要保留最有可能的最大割的数量\n",
    "    k = 5      # 量子比特的数量限制\n",
    "\n",
    "    try:\n",
    "        cut_dc_qaoa, out_cnt = DC_QAOA(G, p, t, s, k, ITR, LR)\n",
    "        cut_dc_qaoa1 = [\"solid\" if cut_dc_qaoa[u] == cut_dc_qaoa[v] else \"dashed\" for (u, v) in list(G.edges)]\n",
    "        value_dc_qaoa = cut_dc_qaoa1.count(\"dashed\")\n",
    "        value_dc_qaoa_ls.append(value_dc_qaoa)\n",
    "        print(\"量子近似优化分治算法找到的最大割分类: \" + str(cut_dc_qaoa) + \", 最大割 = \" + str(float(value_dc_qaoa))) \n",
    "    except Exception as e:\n",
    "        value_dc_qaoa = 0\n",
    "        value_dc_qaoa_ls.append(value_dc_qaoa)\n",
    "        print(\"量子近似优化分治算法找最大割失败，错误信息：'\" + str(e) + \"'\")"
   ]
  },
  {
   "cell_type": "code",
   "execution_count": null,
   "id": "a5261f66-7342-46f6-8713-304c28620bb8",
   "metadata": {},
   "outputs": [],
   "source": []
  }
 ],
 "metadata": {
  "kernelspec": {
   "display_name": "Python 3 (ipykernel)",
   "language": "python",
   "name": "python3"
  },
  "language_info": {
   "codemirror_mode": {
    "name": "ipython",
    "version": 3
   },
   "file_extension": ".py",
   "mimetype": "text/x-python",
   "name": "python",
   "nbconvert_exporter": "python",
   "pygments_lexer": "ipython3",
   "version": "3.8.13"
  },
  "widgets": {
   "application/vnd.jupyter.widget-state+json": {
    "state": {
     "093778cc8adf4183973bae48c0ae6403": {
      "model_module": "@jupyter-widgets/base",
      "model_module_version": "1.2.0",
      "model_name": "LayoutModel",
      "state": {
       "margin": "0px 0px 0px 37px",
       "width": "600px"
      }
     },
     "0dfbe26daa4f42f5b52a8c4d4de7948c": {
      "model_module": "@jupyter-widgets/controls",
      "model_module_version": "1.5.0",
      "model_name": "DescriptionStyleModel",
      "state": {
       "description_width": ""
      }
     },
     "3bd19797e69b467d9c4e92c06adaed0f": {
      "model_module": "@jupyter-widgets/controls",
      "model_module_version": "1.5.0",
      "model_name": "HTMLModel",
      "state": {
       "layout": "IPY_MODEL_529b0d3f836c448b9ee4fbe98a30b910",
       "style": "IPY_MODEL_55338a725490452f8bfcb0ebf2d72335",
       "value": "<h5>Backend</h5>"
      }
     },
     "4b807e5e301443948bb25e6486d58115": {
      "model_module": "@jupyter-widgets/base",
      "model_module_version": "1.2.0",
      "model_name": "LayoutModel",
      "state": {
       "width": "95px"
      }
     },
     "529b0d3f836c448b9ee4fbe98a30b910": {
      "model_module": "@jupyter-widgets/base",
      "model_module_version": "1.2.0",
      "model_name": "LayoutModel",
      "state": {
       "width": "145px"
      }
     },
     "542454aa40f54b68a53f84d6b913909c": {
      "model_module": "@jupyter-widgets/controls",
      "model_module_version": "1.5.0",
      "model_name": "HTMLModel",
      "state": {
       "layout": "IPY_MODEL_9ee5320fdd0e47138fb741cca5ca795a",
       "style": "IPY_MODEL_f9b08687d5b34156a0ce6be8d30e50fb",
       "value": "<p style='font-family: IBM Plex Sans, Arial, Helvetica, sans-serif; font-size: 20px; font-weight: medium;'>Circuit Properties</p>"
      }
     },
     "55338a725490452f8bfcb0ebf2d72335": {
      "model_module": "@jupyter-widgets/controls",
      "model_module_version": "1.5.0",
      "model_name": "DescriptionStyleModel",
      "state": {
       "description_width": ""
      }
     },
     "566dc86b3909440e91929ee47a8659b1": {
      "model_module": "@jupyter-widgets/base",
      "model_module_version": "1.2.0",
      "model_name": "LayoutModel",
      "state": {
       "width": "190px"
      }
     },
     "632d42ca88084bdaa1744b6ee8b33234": {
      "model_module": "@jupyter-widgets/controls",
      "model_module_version": "1.5.0",
      "model_name": "HBoxModel",
      "state": {
       "children": [
        "IPY_MODEL_c0e84ddcf0994ab18f55b3e3e37035f8",
        "IPY_MODEL_3bd19797e69b467d9c4e92c06adaed0f",
        "IPY_MODEL_911ce4ea3d584f9e81e880f45586af15",
        "IPY_MODEL_8569bcbb1b8146d188c724e3e2565694",
        "IPY_MODEL_92dc7ed810c74c5fa6e429a76bbd11fc"
       ],
       "layout": "IPY_MODEL_093778cc8adf4183973bae48c0ae6403"
      }
     },
     "7902f38a365c4d9cb2237465c101369a": {
      "model_module": "@jupyter-widgets/base",
      "model_module_version": "1.2.0",
      "model_name": "LayoutModel",
      "state": {
       "grid_area": "right",
       "padding": "0px 0px 0px 0px",
       "width": "70px"
      }
     },
     "7d27d1ec6e6c4944a38581cc6e99ca18": {
      "model_module": "@jupyter-widgets/controls",
      "model_module_version": "1.5.0",
      "model_name": "ButtonModel",
      "state": {
       "button_style": "primary",
       "description": "Clear",
       "layout": "IPY_MODEL_7902f38a365c4d9cb2237465c101369a",
       "style": "IPY_MODEL_fc8cf97a57f446c1925b0de90e774c03"
      }
     },
     "8569bcbb1b8146d188c724e3e2565694": {
      "model_module": "@jupyter-widgets/controls",
      "model_module_version": "1.5.0",
      "model_name": "HTMLModel",
      "state": {
       "layout": "IPY_MODEL_98161c56c0e0453081f8c500784655df",
       "style": "IPY_MODEL_e7384a2bcb9c467ba0eef6272d636023",
       "value": "<h5>Queue</h5>"
      }
     },
     "911ce4ea3d584f9e81e880f45586af15": {
      "model_module": "@jupyter-widgets/controls",
      "model_module_version": "1.5.0",
      "model_name": "HTMLModel",
      "state": {
       "layout": "IPY_MODEL_4b807e5e301443948bb25e6486d58115",
       "style": "IPY_MODEL_93e5da939e864e8fb968efce31317020",
       "value": "<h5>Status</h5>"
      }
     },
     "92dc7ed810c74c5fa6e429a76bbd11fc": {
      "model_module": "@jupyter-widgets/controls",
      "model_module_version": "1.5.0",
      "model_name": "HTMLModel",
      "state": {
       "layout": "IPY_MODEL_c1c2895880f44111917aa070d75b1df0",
       "style": "IPY_MODEL_e2104a2e00d14466b00fd5b130aaef7f",
       "value": "<h5>Message</h5>"
      }
     },
     "93e5da939e864e8fb968efce31317020": {
      "model_module": "@jupyter-widgets/controls",
      "model_module_version": "1.5.0",
      "model_name": "DescriptionStyleModel",
      "state": {
       "description_width": ""
      }
     },
     "98161c56c0e0453081f8c500784655df": {
      "model_module": "@jupyter-widgets/base",
      "model_module_version": "1.2.0",
      "model_name": "LayoutModel",
      "state": {
       "width": "70px"
      }
     },
     "9ee5320fdd0e47138fb741cca5ca795a": {
      "model_module": "@jupyter-widgets/base",
      "model_module_version": "1.2.0",
      "model_name": "LayoutModel",
      "state": {
       "margin": "0px 0px 10px 0px"
      }
     },
     "a9326ed1b9874e6ca9d3be5f197ddef4": {
      "model_module": "@jupyter-widgets/controls",
      "model_module_version": "1.5.0",
      "model_name": "GridBoxModel",
      "state": {
       "children": [
        "IPY_MODEL_7d27d1ec6e6c4944a38581cc6e99ca18"
       ],
       "layout": "IPY_MODEL_ec12c3ee9a124ef09b9dafc5fc0f5c6e"
      }
     },
     "c0e84ddcf0994ab18f55b3e3e37035f8": {
      "model_module": "@jupyter-widgets/controls",
      "model_module_version": "1.5.0",
      "model_name": "HTMLModel",
      "state": {
       "layout": "IPY_MODEL_566dc86b3909440e91929ee47a8659b1",
       "style": "IPY_MODEL_0dfbe26daa4f42f5b52a8c4d4de7948c",
       "value": "<h5>Job ID</h5>"
      }
     },
     "c1c2895880f44111917aa070d75b1df0": {
      "model_module": "@jupyter-widgets/base",
      "model_module_version": "1.2.0",
      "model_name": "LayoutModel",
      "state": {}
     },
     "e2104a2e00d14466b00fd5b130aaef7f": {
      "model_module": "@jupyter-widgets/controls",
      "model_module_version": "1.5.0",
      "model_name": "DescriptionStyleModel",
      "state": {
       "description_width": ""
      }
     },
     "e7384a2bcb9c467ba0eef6272d636023": {
      "model_module": "@jupyter-widgets/controls",
      "model_module_version": "1.5.0",
      "model_name": "DescriptionStyleModel",
      "state": {
       "description_width": ""
      }
     },
     "ec12c3ee9a124ef09b9dafc5fc0f5c6e": {
      "model_module": "@jupyter-widgets/base",
      "model_module_version": "1.2.0",
      "model_name": "LayoutModel",
      "state": {
       "grid_template_areas": "\n                                       \". . . . right \"\n                                        ",
       "grid_template_columns": "20% 20% 20% 20% 20%",
       "width": "100%"
      }
     },
     "f9b08687d5b34156a0ce6be8d30e50fb": {
      "model_module": "@jupyter-widgets/controls",
      "model_module_version": "1.5.0",
      "model_name": "DescriptionStyleModel",
      "state": {
       "description_width": ""
      }
     },
     "fc8cf97a57f446c1925b0de90e774c03": {
      "model_module": "@jupyter-widgets/controls",
      "model_module_version": "1.5.0",
      "model_name": "ButtonStyleModel",
      "state": {}
     }
    },
    "version_major": 2,
    "version_minor": 0
   }
  }
 },
 "nbformat": 4,
 "nbformat_minor": 5
}
